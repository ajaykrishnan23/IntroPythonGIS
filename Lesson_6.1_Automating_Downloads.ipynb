{
 "cells": [
  {
   "cell_type": "code",
   "execution_count": 3,
   "metadata": {},
   "outputs": [
    {
     "name": "stdout",
     "output_type": "stream",
     "text": [
      "Downloading L4133A.tif\n",
      "Downloading L4133B.tif\n",
      "Downloading L4133C.tif\n",
      "Downloading L4133D.tif\n",
      "Downloading L4133E.tif\n",
      "Downloading L4133F.tif\n",
      "Downloading L4134A.tif\n",
      "Downloading L4134B.tif\n",
      "Downloading L4134C.tif\n",
      "Downloading L4134D.tif\n",
      "Downloading L4134E.tif\n",
      "Downloading L4134F.tif\n",
      "Downloading Latuviitta_ehdot.pdf\n",
      "Downloading MML_ehdot_CC.txt\n",
      "Downloading Helsinki_masked_p188r018_7t20020529_z34__LV-FIN.tif\n"
     ]
    }
   ],
   "source": [
    "import os\n",
    "import urllib\n",
    "import urllib.request\n",
    "\n",
    "\n",
    "def get_filename(url):\n",
    "    \"\"\"\n",
    "    Parses filename from given url\n",
    "    \"\"\"\n",
    "    if url.find('/'):\n",
    "        return url.rsplit('/', 1)[1]\n",
    "\n",
    "# Filepaths\n",
    "outdir = r\"Data\"\n",
    "\n",
    "# File locations\n",
    "url_list = [\"http://www.nic.funet.fi/index/geodata/mml/korkeusmalli2m/2017/L4/L41/L4133A.tif\",\n",
    "            \"http://www.nic.funet.fi/index/geodata/mml/korkeusmalli2m/2017/L4/L41/L4133B.tif\",\n",
    "            \"http://www.nic.funet.fi/index/geodata/mml/korkeusmalli2m/2017/L4/L41/L4133C.tif\",\n",
    "            \"http://www.nic.funet.fi/index/geodata/mml/korkeusmalli2m/2017/L4/L41/L4133D.tif\",\n",
    "            \"http://www.nic.funet.fi/index/geodata/mml/korkeusmalli2m/2017/L4/L41/L4133E.tif\",\n",
    "            \"http://www.nic.funet.fi/index/geodata/mml/korkeusmalli2m/2017/L4/L41/L4133F.tif\",\n",
    "\n",
    "            \"http://www.nic.funet.fi/index/geodata/mml/korkeusmalli2m/2017/L4/L41/L4134A.tif\",\n",
    "            \"http://www.nic.funet.fi/index/geodata/mml/korkeusmalli2m/2017/L4/L41/L4134B.tif\",\n",
    "            \"http://www.nic.funet.fi/index/geodata/mml/korkeusmalli2m/2017/L4/L41/L4134C.tif\",\n",
    "            \"http://www.nic.funet.fi/index/geodata/mml/korkeusmalli2m/2017/L4/L41/L4134D.tif\",\n",
    "            \"http://www.nic.funet.fi/index/geodata/mml/korkeusmalli2m/2017/L4/L41/L4134E.tif\",\n",
    "            \"http://www.nic.funet.fi/index/geodata/mml/korkeusmalli2m/2017/L4/L41/L4134F.tif\",\n",
    "\n",
    "            \"https://etsin.avointiede.fi/storage/f/paituli/ehdot/Latuviitta_ehdot.pdf\",\n",
    "            \"https://etsin.avointiede.fi/storage/f/paituli/ehdot/MML_ehdot_CC.txt\",\n",
    "            \"https://github.com/Automating-GIS-processes/CSC18/raw/master/data/Helsinki_masked_p188r018_7t20020529_z34__LV-FIN.tif\"\n",
    "            ]\n",
    "\n",
    "# Create folder if it does no exist\n",
    "if not os.path.exists(outdir):\n",
    "    os.makedirs(outdir)\n",
    "\n",
    "# Download files\n",
    "for url in url_list:\n",
    "    # Parse filename\n",
    "    fname = get_filename(url)\n",
    "    outfp = os.path.join(outdir, fname)\n",
    "    # Download the file if it does not exist already\n",
    "    if not os.path.exists(outfp):\n",
    "        print(\"Downloading\", fname)\n",
    "        r = urllib.request.urlretrieve(url, outfp)"
   ]
  }
 ],
 "metadata": {
  "kernelspec": {
   "display_name": "Python 3",
   "language": "python",
   "name": "python3"
  },
  "language_info": {
   "codemirror_mode": {
    "name": "ipython",
    "version": 3
   },
   "file_extension": ".py",
   "mimetype": "text/x-python",
   "name": "python",
   "nbconvert_exporter": "python",
   "pygments_lexer": "ipython3",
   "version": "3.5.4"
  }
 },
 "nbformat": 4,
 "nbformat_minor": 2
}
