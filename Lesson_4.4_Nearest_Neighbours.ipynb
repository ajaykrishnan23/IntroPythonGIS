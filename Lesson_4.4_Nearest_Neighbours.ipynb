{
 "cells": [
  {
   "cell_type": "markdown",
   "metadata": {},
   "source": [
    "# Nearest Neighbour Query"
   ]
  },
  {
   "cell_type": "code",
   "execution_count": 1,
   "metadata": {},
   "outputs": [],
   "source": [
    "# Import necessary modules\n",
    "from shapely.geometry import Point, MultiPoint\n",
    "from shapely.ops import nearest_points\n",
    "import geopandas as gpd"
   ]
  },
  {
   "cell_type": "markdown",
   "metadata": {},
   "source": [
    "## Nearest point using shapely"
   ]
  },
  {
   "cell_type": "code",
   "execution_count": 2,
   "metadata": {},
   "outputs": [],
   "source": [
    "# Define a point and a cluster\n",
    "orig = Point(1, 1.67)\n",
    "dest1, dest2, dest3 = Point(0, 1.45), Point(2, 2), Point(0, 2.5)\n",
    "destinations = MultiPoint([dest1, dest2, dest3])"
   ]
  },
  {
   "cell_type": "code",
   "execution_count": 3,
   "metadata": {},
   "outputs": [
    {
     "name": "stdout",
     "output_type": "stream",
     "text": [
      "(<shapely.geometry.point.Point object at 0x7f025377e2e8>, <shapely.geometry.point.Point object at 0x7f025377e400>)\n",
      "POINT (1 1.67) POINT (0 1.45)\n"
     ]
    }
   ],
   "source": [
    "# Find the nearest point\n",
    "nearest_geoms = nearest_points(orig, destinations)\n",
    "print(nearest_geoms)\n",
    "print(nearest_geoms[0], nearest_geoms[1])\n",
    "# Tuple returned contains origin & nearest point"
   ]
  },
  {
   "cell_type": "markdown",
   "metadata": {},
   "source": [
    "## Nearest point using GeoPandas"
   ]
  },
  {
   "cell_type": "code",
   "execution_count": 4,
   "metadata": {},
   "outputs": [],
   "source": [
    "# Enable the KML-driver by passing 'rw' to whitelist of fiona’s supported drivers:\n",
    "gpd.io.file.fiona.drvsupport.supported_drivers['KML'] = 'rw'"
   ]
  },
  {
   "cell_type": "code",
   "execution_count": 5,
   "metadata": {},
   "outputs": [
    {
     "data": {
      "text/html": [
       "<div>\n",
       "<style scoped>\n",
       "    .dataframe tbody tr th:only-of-type {\n",
       "        vertical-align: middle;\n",
       "    }\n",
       "\n",
       "    .dataframe tbody tr th {\n",
       "        vertical-align: top;\n",
       "    }\n",
       "\n",
       "    .dataframe thead th {\n",
       "        text-align: right;\n",
       "    }\n",
       "</style>\n",
       "<table border=\"1\" class=\"dataframe\">\n",
       "  <thead>\n",
       "    <tr style=\"text-align: right;\">\n",
       "      <th></th>\n",
       "      <th>address</th>\n",
       "      <th>id</th>\n",
       "      <th>addr</th>\n",
       "      <th>geometry</th>\n",
       "    </tr>\n",
       "  </thead>\n",
       "  <tbody>\n",
       "    <tr>\n",
       "      <th>0</th>\n",
       "      <td>Ruoholahti, 14, Itämerenkatu, Ruoholahti, Läns...</td>\n",
       "      <td>1000</td>\n",
       "      <td>Itämerenkatu 14, 00101 Helsinki, Finland</td>\n",
       "      <td>POINT (24.9155624 60.1632015)</td>\n",
       "    </tr>\n",
       "    <tr>\n",
       "      <th>1</th>\n",
       "      <td>Kamppi, 1, Kampinkuja, Kamppi, Eteläinen suurp...</td>\n",
       "      <td>1001</td>\n",
       "      <td>Kampinkuja 1, 00100 Helsinki, Finland</td>\n",
       "      <td>POINT (24.9316914 60.1690222)</td>\n",
       "    </tr>\n",
       "    <tr>\n",
       "      <th>2</th>\n",
       "      <td>Citycenter, 8, Kaivokatu, Keskusta, Kluuvi, Et...</td>\n",
       "      <td>1002</td>\n",
       "      <td>Kaivokatu 8, 00101 Helsinki, Finland</td>\n",
       "      <td>POINT (24.94244049213 60.16988445)</td>\n",
       "    </tr>\n",
       "    <tr>\n",
       "      <th>3</th>\n",
       "      <td>1, Hermannin rantatie, Hermanninmäki, Hermanni...</td>\n",
       "      <td>1003</td>\n",
       "      <td>Hermannin rantatie 1, 00580 Helsinki, Finland</td>\n",
       "      <td>POINT (24.9654618 60.2009041)</td>\n",
       "    </tr>\n",
       "    <tr>\n",
       "      <th>4</th>\n",
       "      <td>Hesburger Jätkäsaari, 9, Tyynenmerenkatu, Jätk...</td>\n",
       "      <td>1005</td>\n",
       "      <td>Tyynenmerenkatu 9, 00220 Helsinki, Finland</td>\n",
       "      <td>POINT (24.9216003 60.1566475)</td>\n",
       "    </tr>\n",
       "  </tbody>\n",
       "</table>\n",
       "</div>"
      ],
      "text/plain": [
       "                                             address    id  \\\n",
       "0  Ruoholahti, 14, Itämerenkatu, Ruoholahti, Läns...  1000   \n",
       "1  Kamppi, 1, Kampinkuja, Kamppi, Eteläinen suurp...  1001   \n",
       "2  Citycenter, 8, Kaivokatu, Keskusta, Kluuvi, Et...  1002   \n",
       "3  1, Hermannin rantatie, Hermanninmäki, Hermanni...  1003   \n",
       "4  Hesburger Jätkäsaari, 9, Tyynenmerenkatu, Jätk...  1005   \n",
       "\n",
       "                                            addr  \\\n",
       "0       Itämerenkatu 14, 00101 Helsinki, Finland   \n",
       "1          Kampinkuja 1, 00100 Helsinki, Finland   \n",
       "2           Kaivokatu 8, 00101 Helsinki, Finland   \n",
       "3  Hermannin rantatie 1, 00580 Helsinki, Finland   \n",
       "4     Tyynenmerenkatu 9, 00220 Helsinki, Finland   \n",
       "\n",
       "                             geometry  \n",
       "0       POINT (24.9155624 60.1632015)  \n",
       "1       POINT (24.9316914 60.1690222)  \n",
       "2  POINT (24.94244049213 60.16988445)  \n",
       "3       POINT (24.9654618 60.2009041)  \n",
       "4       POINT (24.9216003 60.1566475)  "
      ]
     },
     "execution_count": 5,
     "metadata": {},
     "output_type": "execute_result"
    }
   ],
   "source": [
    "# Read in addresses from previous tutorial\n",
    "addresses = gpd.read_file(\"Data/addresses.shp\")\n",
    "\n",
    "# Read in the KML file\n",
    "districts = gpd.read_file(\"Data/PKS_suuralue.kml\", driver='KML')\n",
    "addresses.head()"
   ]
  },
  {
   "cell_type": "code",
   "execution_count": 6,
   "metadata": {},
   "outputs": [
    {
     "data": {
      "text/html": [
       "<div>\n",
       "<style scoped>\n",
       "    .dataframe tbody tr th:only-of-type {\n",
       "        vertical-align: middle;\n",
       "    }\n",
       "\n",
       "    .dataframe tbody tr th {\n",
       "        vertical-align: top;\n",
       "    }\n",
       "\n",
       "    .dataframe thead th {\n",
       "        text-align: right;\n",
       "    }\n",
       "</style>\n",
       "<table border=\"1\" class=\"dataframe\">\n",
       "  <thead>\n",
       "    <tr style=\"text-align: right;\">\n",
       "      <th></th>\n",
       "      <th>Name</th>\n",
       "      <th>Description</th>\n",
       "      <th>geometry</th>\n",
       "      <th>centroid</th>\n",
       "    </tr>\n",
       "  </thead>\n",
       "  <tbody>\n",
       "    <tr>\n",
       "      <th>0</th>\n",
       "      <td>Suur-Espoonlahti</td>\n",
       "      <td></td>\n",
       "      <td>POLYGON Z ((24.775059677807 60.1090604462157 0...</td>\n",
       "      <td>POINT (24.76754037242762 60.0440879200116)</td>\n",
       "    </tr>\n",
       "    <tr>\n",
       "      <th>1</th>\n",
       "      <td>Suur-Kauklahti</td>\n",
       "      <td></td>\n",
       "      <td>POLYGON Z ((24.6157775254076 60.1725681273527 ...</td>\n",
       "      <td>POINT (24.57415010885406 60.19764302289445)</td>\n",
       "    </tr>\n",
       "    <tr>\n",
       "      <th>2</th>\n",
       "      <td>Vanha-Espoo</td>\n",
       "      <td></td>\n",
       "      <td>POLYGON Z ((24.6757633262026 60.2120070032819 ...</td>\n",
       "      <td>POINT (24.60400724339237 60.25253297356344)</td>\n",
       "    </tr>\n",
       "    <tr>\n",
       "      <th>3</th>\n",
       "      <td>Pohjois-Espoo</td>\n",
       "      <td></td>\n",
       "      <td>POLYGON Z ((24.767921197401 60.2691954732391 0...</td>\n",
       "      <td>POINT (24.68682879841453 60.30649462398335)</td>\n",
       "    </tr>\n",
       "    <tr>\n",
       "      <th>4</th>\n",
       "      <td>Suur-Matinkylä</td>\n",
       "      <td></td>\n",
       "      <td>POLYGON Z ((24.7536131356802 60.1663051341717 ...</td>\n",
       "      <td>POINT (24.76063843560942 60.15018263640097)</td>\n",
       "    </tr>\n",
       "  </tbody>\n",
       "</table>\n",
       "</div>"
      ],
      "text/plain": [
       "               Name Description  \\\n",
       "0  Suur-Espoonlahti               \n",
       "1    Suur-Kauklahti               \n",
       "2       Vanha-Espoo               \n",
       "3     Pohjois-Espoo               \n",
       "4    Suur-Matinkylä               \n",
       "\n",
       "                                            geometry  \\\n",
       "0  POLYGON Z ((24.775059677807 60.1090604462157 0...   \n",
       "1  POLYGON Z ((24.6157775254076 60.1725681273527 ...   \n",
       "2  POLYGON Z ((24.6757633262026 60.2120070032819 ...   \n",
       "3  POLYGON Z ((24.767921197401 60.2691954732391 0...   \n",
       "4  POLYGON Z ((24.7536131356802 60.1663051341717 ...   \n",
       "\n",
       "                                      centroid  \n",
       "0   POINT (24.76754037242762 60.0440879200116)  \n",
       "1  POINT (24.57415010885406 60.19764302289445)  \n",
       "2  POINT (24.60400724339237 60.25253297356344)  \n",
       "3  POINT (24.68682879841453 60.30649462398335)  \n",
       "4  POINT (24.76063843560942 60.15018263640097)  "
      ]
     },
     "execution_count": 6,
     "metadata": {},
     "output_type": "execute_result"
    }
   ],
   "source": [
    "# Calculate the centroid of each district\n",
    "districts['centroid'] = districts.centroid\n",
    "districts.head()"
   ]
  },
  {
   "cell_type": "code",
   "execution_count": 7,
   "metadata": {
    "scrolled": true
   },
   "outputs": [
    {
     "data": {
      "image/svg+xml": [
       "<svg xmlns=\"http://www.w3.org/2000/svg\" xmlns:xlink=\"http://www.w3.org/1999/xlink\" width=\"100.0\" height=\"100.0\" viewBox=\"24.837618835999997 60.145059136 0.31288582800000597 0.14431952799999692\" preserveAspectRatio=\"xMinYMin meet\"><g transform=\"matrix(1,0,0,-1,0,120.4344378)\"><g><circle cx=\"24.8492072\" cy=\"60.2454277\" r=\"0.009386574840000179\" stroke=\"#555555\" stroke-width=\"0.0031288582800000596\" fill=\"#66cc99\" opacity=\"0.6\" /><circle cx=\"24.8610322\" cy=\"60.224006\" r=\"0.009386574840000179\" stroke=\"#555555\" stroke-width=\"0.0031288582800000596\" fill=\"#66cc99\" opacity=\"0.6\" /><circle cx=\"24.8710287\" cy=\"60.222498\" r=\"0.009386574840000179\" stroke=\"#555555\" stroke-width=\"0.0031288582800000596\" fill=\"#66cc99\" opacity=\"0.6\" /><circle cx=\"24.8769977\" cy=\"60.2397435\" r=\"0.009386574840000179\" stroke=\"#555555\" stroke-width=\"0.0031288582800000596\" fill=\"#66cc99\" opacity=\"0.6\" /><circle cx=\"24.8842071\" cy=\"60.2305\" r=\"0.009386574840000179\" stroke=\"#555555\" stroke-width=\"0.0031288582800000596\" fill=\"#66cc99\" opacity=\"0.6\" /><circle cx=\"24.8941806817097\" cy=\"60.21721545\" r=\"0.009386574840000179\" stroke=\"#555555\" stroke-width=\"0.0031288582800000596\" fill=\"#66cc99\" opacity=\"0.6\" /><circle cx=\"24.9155624\" cy=\"60.1632015\" r=\"0.009386574840000179\" stroke=\"#555555\" stroke-width=\"0.0031288582800000596\" fill=\"#66cc99\" opacity=\"0.6\" /><circle cx=\"24.9212065\" cy=\"60.1587845\" r=\"0.009386574840000179\" stroke=\"#555555\" stroke-width=\"0.0031288582800000596\" fill=\"#66cc99\" opacity=\"0.6\" /><circle cx=\"24.9216003\" cy=\"60.1566475\" r=\"0.009386574840000179\" stroke=\"#555555\" stroke-width=\"0.0031288582800000596\" fill=\"#66cc99\" opacity=\"0.6\" /><circle cx=\"24.9251045\" cy=\"60.1649874\" r=\"0.009386574840000179\" stroke=\"#555555\" stroke-width=\"0.0031288582800000596\" fill=\"#66cc99\" opacity=\"0.6\" /><circle cx=\"24.9316914\" cy=\"60.1690222\" r=\"0.009386574840000179\" stroke=\"#555555\" stroke-width=\"0.0031288582800000596\" fill=\"#66cc99\" opacity=\"0.6\" /><circle cx=\"24.9331155798105\" cy=\"60.1690911\" r=\"0.009386574840000179\" stroke=\"#555555\" stroke-width=\"0.0031288582800000596\" fill=\"#66cc99\" opacity=\"0.6\" /><circle cx=\"24.9339225\" cy=\"60.1995792\" r=\"0.009386574840000179\" stroke=\"#555555\" stroke-width=\"0.0031288582800000596\" fill=\"#66cc99\" opacity=\"0.6\" /><circle cx=\"24.94244049213\" cy=\"60.16988445\" r=\"0.009386574840000179\" stroke=\"#555555\" stroke-width=\"0.0031288582800000596\" fill=\"#66cc99\" opacity=\"0.6\" /><circle cx=\"24.9440942536239\" cy=\"60.17130125\" r=\"0.009386574840000179\" stroke=\"#555555\" stroke-width=\"0.0031288582800000596\" fill=\"#66cc99\" opacity=\"0.6\" /><circle cx=\"24.9473289\" cy=\"60.1718719\" r=\"0.009386574840000179\" stroke=\"#555555\" stroke-width=\"0.0031288582800000596\" fill=\"#66cc99\" opacity=\"0.6\" /><circle cx=\"24.9480051\" cy=\"60.2217879\" r=\"0.009386574840000179\" stroke=\"#555555\" stroke-width=\"0.0031288582800000596\" fill=\"#66cc99\" opacity=\"0.6\" /><circle cx=\"24.9495338\" cy=\"60.1794339\" r=\"0.009386574840000179\" stroke=\"#555555\" stroke-width=\"0.0031288582800000596\" fill=\"#66cc99\" opacity=\"0.6\" /><circle cx=\"24.9607487\" cy=\"60.1882163\" r=\"0.009386574840000179\" stroke=\"#555555\" stroke-width=\"0.0031288582800000596\" fill=\"#66cc99\" opacity=\"0.6\" /><circle cx=\"24.9654618\" cy=\"60.2009041\" r=\"0.009386574840000179\" stroke=\"#555555\" stroke-width=\"0.0031288582800000596\" fill=\"#66cc99\" opacity=\"0.6\" /><circle cx=\"24.9655307\" cy=\"60.2294746\" r=\"0.009386574840000179\" stroke=\"#555555\" stroke-width=\"0.0031288582800000596\" fill=\"#66cc99\" opacity=\"0.6\" /><circle cx=\"24.9936217\" cy=\"60.2436491\" r=\"0.009386574840000179\" stroke=\"#555555\" stroke-width=\"0.0031288582800000596\" fill=\"#66cc99\" opacity=\"0.6\" /><circle cx=\"25.0068082\" cy=\"60.1887169\" r=\"0.009386574840000179\" stroke=\"#555555\" stroke-width=\"0.0031288582800000596\" fill=\"#66cc99\" opacity=\"0.6\" /><circle cx=\"25.0130341\" cy=\"60.2513441\" r=\"0.009386574840000179\" stroke=\"#555555\" stroke-width=\"0.0031288582800000596\" fill=\"#66cc99\" opacity=\"0.6\" /><circle cx=\"25.0204879\" cy=\"60.243423\" r=\"0.009386574840000179\" stroke=\"#555555\" stroke-width=\"0.0031288582800000596\" fill=\"#66cc99\" opacity=\"0.6\" /><circle cx=\"25.026632061488\" cy=\"60.1944775\" r=\"0.009386574840000179\" stroke=\"#555555\" stroke-width=\"0.0031288582800000596\" fill=\"#66cc99\" opacity=\"0.6\" /><circle cx=\"25.0291169\" cy=\"60.2636285\" r=\"0.009386574840000179\" stroke=\"#555555\" stroke-width=\"0.0031288582800000596\" fill=\"#66cc99\" opacity=\"0.6\" /><circle cx=\"25.0331561080774\" cy=\"60.2777903\" r=\"0.009386574840000179\" stroke=\"#555555\" stroke-width=\"0.0031288582800000596\" fill=\"#66cc99\" opacity=\"0.6\" /><circle cx=\"25.0747841\" cy=\"60.2253109\" r=\"0.009386574840000179\" stroke=\"#555555\" stroke-width=\"0.0031288582800000596\" fill=\"#66cc99\" opacity=\"0.6\" /><circle cx=\"25.0783462\" cy=\"60.209819\" r=\"0.009386574840000179\" stroke=\"#555555\" stroke-width=\"0.0031288582800000596\" fill=\"#66cc99\" opacity=\"0.6\" /><circle cx=\"25.0808489\" cy=\"60.2333682\" r=\"0.009386574840000179\" stroke=\"#555555\" stroke-width=\"0.0031288582800000596\" fill=\"#66cc99\" opacity=\"0.6\" /><circle cx=\"25.1098071\" cy=\"60.2380653\" r=\"0.009386574840000179\" stroke=\"#555555\" stroke-width=\"0.0031288582800000596\" fill=\"#66cc99\" opacity=\"0.6\" /><circle cx=\"25.1109579\" cy=\"60.2216552\" r=\"0.009386574840000179\" stroke=\"#555555\" stroke-width=\"0.0031288582800000596\" fill=\"#66cc99\" opacity=\"0.6\" /><circle cx=\"25.1389163\" cy=\"60.2071633\" r=\"0.009386574840000179\" stroke=\"#555555\" stroke-width=\"0.0031288582800000596\" fill=\"#66cc99\" opacity=\"0.6\" /></g></g></svg>"
      ],
      "text/plain": [
       "<shapely.geometry.multipoint.MultiPoint at 0x7f0280297320>"
      ]
     },
     "execution_count": 7,
     "metadata": {},
     "output_type": "execute_result"
    }
   ],
   "source": [
    "# Create unary union from Points, which basically creates a MultiPoint object from the Point geometries.\n",
    "addressUnion = addresses.unary_union\n",
    "addressUnion"
   ]
  },
  {
   "cell_type": "code",
   "execution_count": 8,
   "metadata": {},
   "outputs": [
    {
     "data": {
      "text/plain": [
       "0     False\n",
       "1     False\n",
       "2     False\n",
       "3     False\n",
       "4     False\n",
       "5     False\n",
       "6     False\n",
       "7     False\n",
       "8     False\n",
       "9     False\n",
       "10    False\n",
       "11    False\n",
       "12    False\n",
       "13    False\n",
       "14    False\n",
       "15    False\n",
       "16     True\n",
       "17    False\n",
       "18    False\n",
       "19    False\n",
       "20    False\n",
       "21    False\n",
       "22    False\n",
       "23    False\n",
       "24    False\n",
       "25    False\n",
       "26    False\n",
       "27    False\n",
       "28    False\n",
       "29    False\n",
       "30    False\n",
       "31    False\n",
       "32    False\n",
       "33    False\n",
       "Name: geometry, dtype: bool"
      ]
     },
     "execution_count": 8,
     "metadata": {},
     "output_type": "execute_result"
    }
   ],
   "source": [
    "# Test the 'nearest_points' functionality. The function returns the nearest points from two DataFrames\n",
    "# Here we use the result to create a mask by desting for equality in the addresses['geometry'] column.\n",
    "addresses['geometry'] == nearest_points(districts.loc[2][\"centroid\"], addressUnion)[1]\n"
   ]
  },
  {
   "cell_type": "code",
   "execution_count": 9,
   "metadata": {},
   "outputs": [],
   "source": [
    "# Now we define a function that can be applied to each row of the districts DataFrame,\n",
    "# and that returns values selected from a selected column of the addresses DataFrame\n",
    "# Need to pass in both the addressUnion collection and the addresses dataFrame\n",
    "\n",
    "def nearest(row, addresses, addressUnion, districts, srcColName='id'):\n",
    "    \"\"\"Find the nearest point and return the corresponding value from specified column.\"\"\"\n",
    "    \n",
    "    # Find the centroid in the row of district that is closest\n",
    "    # Create a mask to select the addresses DataFrame\n",
    "    nearMsk = addresses['geometry'] == nearest_points(row[\"centroid\"], addressUnion)[1]\n",
    "    \n",
    "    # Get the corresponding value from the addresses DataFrame\n",
    "    value = addresses[nearMsk][srcColName].get_values()[0]\n",
    "    \n",
    "    return value\n"
   ]
  },
  {
   "cell_type": "code",
   "execution_count": 10,
   "metadata": {},
   "outputs": [
    {
     "data": {
      "text/html": [
       "<div>\n",
       "<style scoped>\n",
       "    .dataframe tbody tr th:only-of-type {\n",
       "        vertical-align: middle;\n",
       "    }\n",
       "\n",
       "    .dataframe tbody tr th {\n",
       "        vertical-align: top;\n",
       "    }\n",
       "\n",
       "    .dataframe thead th {\n",
       "        text-align: right;\n",
       "    }\n",
       "</style>\n",
       "<table border=\"1\" class=\"dataframe\">\n",
       "  <thead>\n",
       "    <tr style=\"text-align: right;\">\n",
       "      <th></th>\n",
       "      <th>Name</th>\n",
       "      <th>Description</th>\n",
       "      <th>geometry</th>\n",
       "      <th>centroid</th>\n",
       "      <th>nearest_id</th>\n",
       "    </tr>\n",
       "  </thead>\n",
       "  <tbody>\n",
       "    <tr>\n",
       "      <th>0</th>\n",
       "      <td>Suur-Espoonlahti</td>\n",
       "      <td></td>\n",
       "      <td>POLYGON Z ((24.775059677807 60.1090604462157 0...</td>\n",
       "      <td>POINT (24.76754037242762 60.0440879200116)</td>\n",
       "      <td>1000</td>\n",
       "    </tr>\n",
       "    <tr>\n",
       "      <th>1</th>\n",
       "      <td>Suur-Kauklahti</td>\n",
       "      <td></td>\n",
       "      <td>POLYGON Z ((24.6157775254076 60.1725681273527 ...</td>\n",
       "      <td>POINT (24.57415010885406 60.19764302289445)</td>\n",
       "      <td>1017</td>\n",
       "    </tr>\n",
       "    <tr>\n",
       "      <th>2</th>\n",
       "      <td>Vanha-Espoo</td>\n",
       "      <td></td>\n",
       "      <td>POLYGON Z ((24.6757633262026 60.2120070032819 ...</td>\n",
       "      <td>POINT (24.60400724339237 60.25253297356344)</td>\n",
       "      <td>1017</td>\n",
       "    </tr>\n",
       "    <tr>\n",
       "      <th>3</th>\n",
       "      <td>Pohjois-Espoo</td>\n",
       "      <td></td>\n",
       "      <td>POLYGON Z ((24.767921197401 60.2691954732391 0...</td>\n",
       "      <td>POINT (24.68682879841453 60.30649462398335)</td>\n",
       "      <td>1017</td>\n",
       "    </tr>\n",
       "    <tr>\n",
       "      <th>4</th>\n",
       "      <td>Suur-Matinkylä</td>\n",
       "      <td></td>\n",
       "      <td>POLYGON Z ((24.7536131356802 60.1663051341717 ...</td>\n",
       "      <td>POINT (24.76063843560942 60.15018263640097)</td>\n",
       "      <td>1020</td>\n",
       "    </tr>\n",
       "  </tbody>\n",
       "</table>\n",
       "</div>"
      ],
      "text/plain": [
       "               Name Description  \\\n",
       "0  Suur-Espoonlahti               \n",
       "1    Suur-Kauklahti               \n",
       "2       Vanha-Espoo               \n",
       "3     Pohjois-Espoo               \n",
       "4    Suur-Matinkylä               \n",
       "\n",
       "                                            geometry  \\\n",
       "0  POLYGON Z ((24.775059677807 60.1090604462157 0...   \n",
       "1  POLYGON Z ((24.6157775254076 60.1725681273527 ...   \n",
       "2  POLYGON Z ((24.6757633262026 60.2120070032819 ...   \n",
       "3  POLYGON Z ((24.767921197401 60.2691954732391 0...   \n",
       "4  POLYGON Z ((24.7536131356802 60.1663051341717 ...   \n",
       "\n",
       "                                      centroid  nearest_id  \n",
       "0   POINT (24.76754037242762 60.0440879200116)        1000  \n",
       "1  POINT (24.57415010885406 60.19764302289445)        1017  \n",
       "2  POINT (24.60400724339237 60.25253297356344)        1017  \n",
       "3  POINT (24.68682879841453 60.30649462398335)        1017  \n",
       "4  POINT (24.76063843560942 60.15018263640097)        1020  "
      ]
     },
     "execution_count": 10,
     "metadata": {},
     "output_type": "execute_result"
    }
   ],
   "source": [
    "# Calculate the centroids of each district and put into a new column\n",
    "districts['nearest_id'] = districts.apply(nearest, addresses=addresses, addressUnion=addressUnion, districts=districts, srcColName='id', axis=1)\n",
    "districts.head(5)"
   ]
  },
  {
   "cell_type": "code",
   "execution_count": null,
   "metadata": {},
   "outputs": [],
   "source": []
  }
 ],
 "metadata": {
  "kernelspec": {
   "display_name": "Python 3",
   "language": "python",
   "name": "python3"
  },
  "language_info": {
   "codemirror_mode": {
    "name": "ipython",
    "version": 3
   },
   "file_extension": ".py",
   "mimetype": "text/x-python",
   "name": "python",
   "nbconvert_exporter": "python",
   "pygments_lexer": "ipython3",
   "version": "3.5.4"
  }
 },
 "nbformat": 4,
 "nbformat_minor": 2
}
