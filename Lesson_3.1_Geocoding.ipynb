{
 "cells": [
  {
   "cell_type": "markdown",
   "metadata": {},
   "source": [
    "# Geocoding in Geopandas\n",
    "Lesson at https://automating-gis-processes.github.io/CSC18/lessons/L3/geocoding.html"
   ]
  },
  {
   "cell_type": "code",
   "execution_count": 16,
   "metadata": {},
   "outputs": [],
   "source": [
    "# Import necessary modules\n",
    "import pandas as pd\n",
    "import geopandas as gpd\n",
    "from shapely.geometry import Point\n",
    "from geopandas.tools import geocode\n",
    "import matplotlib.pyplot as plt"
   ]
  },
  {
   "cell_type": "code",
   "execution_count": 7,
   "metadata": {},
   "outputs": [
    {
     "data": {
      "text/plain": [
       "(34, 2)"
      ]
     },
     "execution_count": 7,
     "metadata": {},
     "output_type": "execute_result"
    }
   ],
   "source": [
    "# Read the data into a Pandas DataFrame\n",
    "data = pd.read_csv(\"Data/addresses.txt\", sep=';')\n",
    "data.head()\n",
    "data.shape"
   ]
  },
  {
   "cell_type": "markdown",
   "metadata": {},
   "source": [
    "Now we geocode the addresses, i.e., for each address look up a coordinate point. This can be accomplished using a range of third-part services, many of which need a licence, or API access key. GeoPandas provides access to these (e.g., Google, Baidu, Bing, ArcGIS, MapQuest). * Nominatim * is a geocoder that based on openstreetmap that does not require and API, but is rate-limited"
   ]
  },
  {
   "cell_type": "code",
   "execution_count": 9,
   "metadata": {
    "scrolled": true
   },
   "outputs": [
    {
     "data": {
      "text/html": [
       "<div>\n",
       "<style scoped>\n",
       "    .dataframe tbody tr th:only-of-type {\n",
       "        vertical-align: middle;\n",
       "    }\n",
       "\n",
       "    .dataframe tbody tr th {\n",
       "        vertical-align: top;\n",
       "    }\n",
       "\n",
       "    .dataframe thead th {\n",
       "        text-align: right;\n",
       "    }\n",
       "</style>\n",
       "<table border=\"1\" class=\"dataframe\">\n",
       "  <thead>\n",
       "    <tr style=\"text-align: right;\">\n",
       "      <th></th>\n",
       "      <th>address</th>\n",
       "      <th>geometry</th>\n",
       "    </tr>\n",
       "  </thead>\n",
       "  <tbody>\n",
       "    <tr>\n",
       "      <th>0</th>\n",
       "      <td>Ruoholahti, 14, Itämerenkatu, Ruoholahti, Läns...</td>\n",
       "      <td>POINT (24.9155624 60.1632015)</td>\n",
       "    </tr>\n",
       "    <tr>\n",
       "      <th>1</th>\n",
       "      <td>Kamppi, 1, Kampinkuja, Kamppi, Eteläinen suurp...</td>\n",
       "      <td>POINT (24.9316914 60.1690222)</td>\n",
       "    </tr>\n",
       "    <tr>\n",
       "      <th>2</th>\n",
       "      <td>Citycenter, 8, Kaivokatu, Keskusta, Kluuvi, Et...</td>\n",
       "      <td>POINT (24.94244049213 60.16988445)</td>\n",
       "    </tr>\n",
       "    <tr>\n",
       "      <th>3</th>\n",
       "      <td>1, Hermannin rantatie, Hermanninmäki, Hermanni...</td>\n",
       "      <td>POINT (24.9654618 60.2009041)</td>\n",
       "    </tr>\n",
       "    <tr>\n",
       "      <th>4</th>\n",
       "      <td>Hesburger Jätkäsaari, 9, Tyynenmerenkatu, Jätk...</td>\n",
       "      <td>POINT (24.9216003 60.1566475)</td>\n",
       "    </tr>\n",
       "  </tbody>\n",
       "</table>\n",
       "</div>"
      ],
      "text/plain": [
       "                                             address  \\\n",
       "0  Ruoholahti, 14, Itämerenkatu, Ruoholahti, Läns...   \n",
       "1  Kamppi, 1, Kampinkuja, Kamppi, Eteläinen suurp...   \n",
       "2  Citycenter, 8, Kaivokatu, Keskusta, Kluuvi, Et...   \n",
       "3  1, Hermannin rantatie, Hermanninmäki, Hermanni...   \n",
       "4  Hesburger Jätkäsaari, 9, Tyynenmerenkatu, Jätk...   \n",
       "\n",
       "                             geometry  \n",
       "0       POINT (24.9155624 60.1632015)  \n",
       "1       POINT (24.9316914 60.1690222)  \n",
       "2  POINT (24.94244049213 60.16988445)  \n",
       "3       POINT (24.9654618 60.2009041)  \n",
       "4       POINT (24.9216003 60.1566475)  "
      ]
     },
     "execution_count": 9,
     "metadata": {},
     "output_type": "execute_result"
    }
   ],
   "source": [
    "# Geocode the DataFrame address column\n",
    "# Note: needed to set the timeout to longer than 1s\n",
    "geo = geocode(data['addr'], provider='nominatim', timeout=2)\n",
    "geo.head()"
   ]
  },
  {
   "cell_type": "code",
   "execution_count": 11,
   "metadata": {},
   "outputs": [
    {
     "data": {
      "text/html": [
       "<div>\n",
       "<style scoped>\n",
       "    .dataframe tbody tr th:only-of-type {\n",
       "        vertical-align: middle;\n",
       "    }\n",
       "\n",
       "    .dataframe tbody tr th {\n",
       "        vertical-align: top;\n",
       "    }\n",
       "\n",
       "    .dataframe thead th {\n",
       "        text-align: right;\n",
       "    }\n",
       "</style>\n",
       "<table border=\"1\" class=\"dataframe\">\n",
       "  <thead>\n",
       "    <tr style=\"text-align: right;\">\n",
       "      <th></th>\n",
       "      <th>address</th>\n",
       "      <th>geometry</th>\n",
       "      <th>id</th>\n",
       "      <th>addr</th>\n",
       "    </tr>\n",
       "  </thead>\n",
       "  <tbody>\n",
       "    <tr>\n",
       "      <th>0</th>\n",
       "      <td>Ruoholahti, 14, Itämerenkatu, Ruoholahti, Läns...</td>\n",
       "      <td>POINT (24.9155624 60.1632015)</td>\n",
       "      <td>1000</td>\n",
       "      <td>Itämerenkatu 14, 00101 Helsinki, Finland</td>\n",
       "    </tr>\n",
       "    <tr>\n",
       "      <th>1</th>\n",
       "      <td>Kamppi, 1, Kampinkuja, Kamppi, Eteläinen suurp...</td>\n",
       "      <td>POINT (24.9316914 60.1690222)</td>\n",
       "      <td>1001</td>\n",
       "      <td>Kampinkuja 1, 00100 Helsinki, Finland</td>\n",
       "    </tr>\n",
       "    <tr>\n",
       "      <th>2</th>\n",
       "      <td>Citycenter, 8, Kaivokatu, Keskusta, Kluuvi, Et...</td>\n",
       "      <td>POINT (24.94244049213 60.16988445)</td>\n",
       "      <td>1002</td>\n",
       "      <td>Kaivokatu 8, 00101 Helsinki, Finland</td>\n",
       "    </tr>\n",
       "    <tr>\n",
       "      <th>3</th>\n",
       "      <td>1, Hermannin rantatie, Hermanninmäki, Hermanni...</td>\n",
       "      <td>POINT (24.9654618 60.2009041)</td>\n",
       "      <td>1003</td>\n",
       "      <td>Hermannin rantatie 1, 00580 Helsinki, Finland</td>\n",
       "    </tr>\n",
       "    <tr>\n",
       "      <th>4</th>\n",
       "      <td>Hesburger Jätkäsaari, 9, Tyynenmerenkatu, Jätk...</td>\n",
       "      <td>POINT (24.9216003 60.1566475)</td>\n",
       "      <td>1005</td>\n",
       "      <td>Tyynenmerenkatu 9, 00220 Helsinki, Finland</td>\n",
       "    </tr>\n",
       "  </tbody>\n",
       "</table>\n",
       "</div>"
      ],
      "text/plain": [
       "                                             address  \\\n",
       "0  Ruoholahti, 14, Itämerenkatu, Ruoholahti, Läns...   \n",
       "1  Kamppi, 1, Kampinkuja, Kamppi, Eteläinen suurp...   \n",
       "2  Citycenter, 8, Kaivokatu, Keskusta, Kluuvi, Et...   \n",
       "3  1, Hermannin rantatie, Hermanninmäki, Hermanni...   \n",
       "4  Hesburger Jätkäsaari, 9, Tyynenmerenkatu, Jätk...   \n",
       "\n",
       "                             geometry    id  \\\n",
       "0       POINT (24.9155624 60.1632015)  1000   \n",
       "1       POINT (24.9316914 60.1690222)  1001   \n",
       "2  POINT (24.94244049213 60.16988445)  1002   \n",
       "3       POINT (24.9654618 60.2009041)  1003   \n",
       "4       POINT (24.9216003 60.1566475)  1005   \n",
       "\n",
       "                                            addr  \n",
       "0       Itämerenkatu 14, 00101 Helsinki, Finland  \n",
       "1          Kampinkuja 1, 00100 Helsinki, Finland  \n",
       "2           Kaivokatu 8, 00101 Helsinki, Finland  \n",
       "3  Hermannin rantatie 1, 00580 Helsinki, Finland  \n",
       "4     Tyynenmerenkatu 9, 00220 Helsinki, Finland  "
      ]
     },
     "execution_count": 11,
     "metadata": {},
     "output_type": "execute_result"
    }
   ],
   "source": [
    "# Now join the geo DataFrame with the original DataFrame of addresses\n",
    "dataGeo = geo.join(data)\n",
    "dataGeo.head()"
   ]
  },
  {
   "cell_type": "code",
   "execution_count": 14,
   "metadata": {},
   "outputs": [],
   "source": [
    "# Save to a shapefile\n",
    "dataGeo.to_file(\"Data/addresses.shp\")"
   ]
  },
  {
   "cell_type": "code",
   "execution_count": 17,
   "metadata": {
    "scrolled": false
   },
   "outputs": [
    {
     "data": {
      "image/png": "[encoded data removed]",
      "text/plain": [
       "<matplotlib.figure.Figure at 0x7fdc86336860>"
      ]
     },
     "metadata": {},
     "output_type": "display_data"
    }
   ],
   "source": [
    "# Plot the addresses\n",
    "%matplotlib inline\n",
    "dataGeo.plot()\n",
    "plt.tight_layout()"
   ]
  },
  {
   "cell_type": "code",
   "execution_count": null,
   "metadata": {},
   "outputs": [],
   "source": []
  }
 ],
 "metadata": {
  "kernelspec": {
   "display_name": "Python 3",
   "language": "python",
   "name": "python3"
  },
  "language_info": {
   "codemirror_mode": {
    "name": "ipython",
    "version": 3
   },
   "file_extension": ".py",
   "mimetype": "text/x-python",
   "name": "python",
   "nbconvert_exporter": "python",
   "pygments_lexer": "ipython3",
   "version": "3.5.4"
  }
 },
 "nbformat": 4,
 "nbformat_minor": 2
}
